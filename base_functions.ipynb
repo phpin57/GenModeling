{
 "cells": [
  {
   "cell_type": "code",
   "execution_count": 1,
   "metadata": {},
   "outputs": [],
   "source": [
    "#Import two moons\n",
    "from sklearn.datasets import make_moons\n",
    "import torch\n",
    "import matplotlib.pyplot as plt\n",
    "import numpy as np\n"
   ]
  },
  {
   "cell_type": "code",
   "execution_count": 2,
   "metadata": {},
   "outputs": [],
   "source": [
    "def normalize_image(X):\n",
    "    \"\"\"\n",
    "    Normalize the image to -1, 1\n",
    "    \"\"\"\n",
    "    X = (X - X.min()) / (X.max() - X.min()) # Min-max scaling\n",
    "    X = (X - 0.5) / 0.5 # Scale to -1, 1\n",
    "    return X\n",
    "\n",
    "def add_noise(X, t):\n",
    "    \"\"\"\n",
    "    Add a noise of std sqrt(t) to the data\n",
    "    \"\"\"\n",
    "    z = torch.randn(X.shape) * np.sqrt(t)\n",
    "    return X + z\n",
    "\n",
    "def plot_data(Xs):\n",
    "    \"\"\"\n",
    "    Plot the data\n",
    "    \"\"\"\n",
    "    for X in Xs:\n",
    "        plt.scatter(X[:, 0], X[:, 1])\n",
    "    plt.xlim(-2, 2)\n",
    "    plt.ylim(-2, 2)\n",
    "    plt.show()\n",
    "\n",
    "def sample_data(n_samples, t):\n",
    "    \"\"\"\n",
    "    Sample the data\n",
    "    \"\"\"\n",
    "    X, _ = make_moons(n_samples=n_samples, noise=0)\n",
    "    X = torch.tensor(X, dtype=torch.float32)\n",
    "    X = add_noise(X, t)\n",
    "    return X"
   ]
  },
  {
   "cell_type": "code",
   "execution_count": 3,
   "metadata": {},
   "outputs": [
    {
     "ename": "TypeError",
     "evalue": "sqrt(): argument 'input' (position 1) must be Tensor, not float",
     "output_type": "error",
     "traceback": [
      "\u001b[1;31m---------------------------------------------------------------------------\u001b[0m",
      "\u001b[1;31mTypeError\u001b[0m                                 Traceback (most recent call last)",
      "Cell \u001b[1;32mIn[3], line 2\u001b[0m\n\u001b[0;32m      1\u001b[0m \u001b[39m# Plot moons\u001b[39;00m\n\u001b[1;32m----> 2\u001b[0m X \u001b[39m=\u001b[39m sample_data(\u001b[39m100\u001b[39;49m, \u001b[39m0.1\u001b[39;49m)\n\u001b[0;32m      3\u001b[0m plot_data([X])\n",
      "Cell \u001b[1;32mIn[2], line 34\u001b[0m, in \u001b[0;36msample_data\u001b[1;34m(n_samples, t)\u001b[0m\n\u001b[0;32m     32\u001b[0m X, _ \u001b[39m=\u001b[39m make_moons(n_samples\u001b[39m=\u001b[39mn_samples, noise\u001b[39m=\u001b[39m\u001b[39m0\u001b[39m)\n\u001b[0;32m     33\u001b[0m X \u001b[39m=\u001b[39m torch\u001b[39m.\u001b[39mtensor(X, dtype\u001b[39m=\u001b[39mtorch\u001b[39m.\u001b[39mfloat32)\n\u001b[1;32m---> 34\u001b[0m X \u001b[39m=\u001b[39m add_noise(X, t)\n\u001b[0;32m     35\u001b[0m \u001b[39mreturn\u001b[39;00m X\n",
      "Cell \u001b[1;32mIn[2], line 13\u001b[0m, in \u001b[0;36madd_noise\u001b[1;34m(X, t)\u001b[0m\n\u001b[0;32m      9\u001b[0m \u001b[39mdef\u001b[39;00m \u001b[39madd_noise\u001b[39m(X, t):\n\u001b[0;32m     10\u001b[0m \u001b[39m    \u001b[39m\u001b[39m\"\"\"\u001b[39;00m\n\u001b[0;32m     11\u001b[0m \u001b[39m    Add noise to the data\u001b[39;00m\n\u001b[0;32m     12\u001b[0m \u001b[39m    \"\"\"\u001b[39;00m\n\u001b[1;32m---> 13\u001b[0m     sigma \u001b[39m=\u001b[39m torch\u001b[39m.\u001b[39;49msqrt(t)\n\u001b[0;32m     14\u001b[0m     z \u001b[39m=\u001b[39m torch\u001b[39m.\u001b[39mnormal(\u001b[39m0\u001b[39m, sigma, X\u001b[39m.\u001b[39mshape)\n\u001b[0;32m     15\u001b[0m     X \u001b[39m=\u001b[39m X \u001b[39m+\u001b[39m z\n",
      "\u001b[1;31mTypeError\u001b[0m: sqrt(): argument 'input' (position 1) must be Tensor, not float"
     ]
    }
   ],
   "source": [
    "# Plot moons\n",
    "X = sample_data(100, 0.1)\n",
    "plot_data([X])\n"
   ]
  }
 ],
 "metadata": {
  "kernelspec": {
   "display_name": "Python 3",
   "language": "python",
   "name": "python3"
  },
  "language_info": {
   "codemirror_mode": {
    "name": "ipython",
    "version": 3
   },
   "file_extension": ".py",
   "mimetype": "text/x-python",
   "name": "python",
   "nbconvert_exporter": "python",
   "pygments_lexer": "ipython3",
   "version": "3.10.9"
  },
  "orig_nbformat": 4
 },
 "nbformat": 4,
 "nbformat_minor": 2
}
